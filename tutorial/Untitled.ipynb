{
 "cells": [
  {
   "cell_type": "code",
   "execution_count": 1,
   "metadata": {},
   "outputs": [],
   "source": [
    "import pandas as pd"
   ]
  },
  {
   "cell_type": "code",
   "execution_count": 7,
   "metadata": {},
   "outputs": [
    {
     "data": {
      "text/html": [
       "<div>\n",
       "<style scoped>\n",
       "    .dataframe tbody tr th:only-of-type {\n",
       "        vertical-align: middle;\n",
       "    }\n",
       "\n",
       "    .dataframe tbody tr th {\n",
       "        vertical-align: top;\n",
       "    }\n",
       "\n",
       "    .dataframe thead th {\n",
       "        text-align: right;\n",
       "    }\n",
       "</style>\n",
       "<table border=\"1\" class=\"dataframe\">\n",
       "  <thead>\n",
       "    <tr style=\"text-align: right;\">\n",
       "      <th></th>\n",
       "      <th>@timestamp</th>\n",
       "      <th>message</th>\n",
       "      <th>loglevel</th>\n",
       "      <th>field</th>\n",
       "    </tr>\n",
       "  </thead>\n",
       "  <tbody>\n",
       "    <tr>\n",
       "      <th>0</th>\n",
       "      <td>Jul 20, 2019 @ 07:00:52.367</td>\n",
       "      <td>2019-07-20 14:00:52,367 19716 WARNING FI2 open...</td>\n",
       "      <td>WARNING</td>\n",
       "      <td>19,716</td>\n",
       "    </tr>\n",
       "    <tr>\n",
       "      <th>1</th>\n",
       "      <td>Jul 20, 2019 @ 07:00:52.173</td>\n",
       "      <td>2019-07-20 14:00:52,173 29311 ERROR FI2 opener...</td>\n",
       "      <td>ERROR</td>\n",
       "      <td>29,311</td>\n",
       "    </tr>\n",
       "    <tr>\n",
       "      <th>2</th>\n",
       "      <td>Jul 20, 2019 @ 07:00:49.205</td>\n",
       "      <td>2019-07-20 14:00:49,205 26822 WARNING FI2 open...</td>\n",
       "      <td>WARNING</td>\n",
       "      <td>26,822</td>\n",
       "    </tr>\n",
       "    <tr>\n",
       "      <th>3</th>\n",
       "      <td>Jul 20, 2019 @ 07:00:49.047</td>\n",
       "      <td>2019-07-20 14:00:49,047 924 WARNING FI2 opener...</td>\n",
       "      <td>WARNING</td>\n",
       "      <td>924</td>\n",
       "    </tr>\n",
       "    <tr>\n",
       "      <th>4</th>\n",
       "      <td>Jul 20, 2019 @ 07:00:48.623</td>\n",
       "      <td>2019-07-20 14:00:48,623 29311 WARNING FI2 open...</td>\n",
       "      <td>WARNING</td>\n",
       "      <td>29,311</td>\n",
       "    </tr>\n",
       "  </tbody>\n",
       "</table>\n",
       "</div>"
      ],
      "text/plain": [
       "                    @timestamp  \\\n",
       "0  Jul 20, 2019 @ 07:00:52.367   \n",
       "1  Jul 20, 2019 @ 07:00:52.173   \n",
       "2  Jul 20, 2019 @ 07:00:49.205   \n",
       "3  Jul 20, 2019 @ 07:00:49.047   \n",
       "4  Jul 20, 2019 @ 07:00:48.623   \n",
       "\n",
       "                                             message loglevel   field  \n",
       "0  2019-07-20 14:00:52,367 19716 WARNING FI2 open...  WARNING  19,716  \n",
       "1  2019-07-20 14:00:52,173 29311 ERROR FI2 opener...    ERROR  29,311  \n",
       "2  2019-07-20 14:00:49,205 26822 WARNING FI2 open...  WARNING  26,822  \n",
       "3  2019-07-20 14:00:49,047 924 WARNING FI2 opener...  WARNING     924  \n",
       "4  2019-07-20 14:00:48,623 29311 WARNING FI2 open...  WARNING  29,311  "
      ]
     },
     "execution_count": 7,
     "metadata": {},
     "output_type": "execute_result"
    }
   ],
   "source": [
    "check_result = pd.read_csv('log_test_three.csv')\n",
    "check_result.head()"
   ]
  },
  {
   "cell_type": "code",
   "execution_count": 8,
   "metadata": {},
   "outputs": [
    {
     "data": {
      "text/plain": [
       "4850"
      ]
     },
     "execution_count": 8,
     "metadata": {},
     "output_type": "execute_result"
    }
   ],
   "source": [
    "len(check_result)"
   ]
  },
  {
   "cell_type": "code",
   "execution_count": 23,
   "metadata": {},
   "outputs": [
    {
     "data": {
      "text/html": [
       "<div>\n",
       "<style scoped>\n",
       "    .dataframe tbody tr th:only-of-type {\n",
       "        vertical-align: middle;\n",
       "    }\n",
       "\n",
       "    .dataframe tbody tr th {\n",
       "        vertical-align: top;\n",
       "    }\n",
       "\n",
       "    .dataframe thead th {\n",
       "        text-align: right;\n",
       "    }\n",
       "</style>\n",
       "<table border=\"1\" class=\"dataframe\">\n",
       "  <thead>\n",
       "    <tr style=\"text-align: right;\">\n",
       "      <th></th>\n",
       "      <th>@timestamp</th>\n",
       "      <th>message</th>\n",
       "      <th>loglevel</th>\n",
       "      <th>field</th>\n",
       "    </tr>\n",
       "  </thead>\n",
       "  <tbody>\n",
       "    <tr>\n",
       "      <th>0</th>\n",
       "      <td>Jul 20, 2019 @ 07:00:52.367</td>\n",
       "      <td>2019-07-20 14:00:52,367 19716 WARNING FI2 open...</td>\n",
       "      <td>WARNING</td>\n",
       "      <td>19,716</td>\n",
       "    </tr>\n",
       "    <tr>\n",
       "      <th>1</th>\n",
       "      <td>Jul 20, 2019 @ 07:00:52.173</td>\n",
       "      <td>2019-07-20 14:00:52,173 29311 ERROR FI2 opener...</td>\n",
       "      <td>WARNING</td>\n",
       "      <td>29,311</td>\n",
       "    </tr>\n",
       "    <tr>\n",
       "      <th>2</th>\n",
       "      <td>Jul 20, 2019 @ 07:00:49.205</td>\n",
       "      <td>2019-07-20 14:00:49,205 26822 WARNING FI2 open...</td>\n",
       "      <td>WARNING</td>\n",
       "      <td>26,822</td>\n",
       "    </tr>\n",
       "    <tr>\n",
       "      <th>3</th>\n",
       "      <td>Jul 20, 2019 @ 07:00:49.047</td>\n",
       "      <td>2019-07-20 14:00:49,047 924 WARNING FI2 opener...</td>\n",
       "      <td>WARNING</td>\n",
       "      <td>924</td>\n",
       "    </tr>\n",
       "    <tr>\n",
       "      <th>4</th>\n",
       "      <td>Jul 20, 2019 @ 07:00:48.623</td>\n",
       "      <td>2019-07-20 14:00:48,623 29311 WARNING FI2 open...</td>\n",
       "      <td>WARNING</td>\n",
       "      <td>29,311</td>\n",
       "    </tr>\n",
       "  </tbody>\n",
       "</table>\n",
       "</div>"
      ],
      "text/plain": [
       "                    @timestamp  \\\n",
       "0  Jul 20, 2019 @ 07:00:52.367   \n",
       "1  Jul 20, 2019 @ 07:00:52.173   \n",
       "2  Jul 20, 2019 @ 07:00:49.205   \n",
       "3  Jul 20, 2019 @ 07:00:49.047   \n",
       "4  Jul 20, 2019 @ 07:00:48.623   \n",
       "\n",
       "                                             message loglevel   field  \n",
       "0  2019-07-20 14:00:52,367 19716 WARNING FI2 open...  WARNING  19,716  \n",
       "1  2019-07-20 14:00:52,173 29311 ERROR FI2 opener...  WARNING  29,311  \n",
       "2  2019-07-20 14:00:49,205 26822 WARNING FI2 open...  WARNING  26,822  \n",
       "3  2019-07-20 14:00:49,047 924 WARNING FI2 opener...  WARNING     924  \n",
       "4  2019-07-20 14:00:48,623 29311 WARNING FI2 open...  WARNING  29,311  "
      ]
     },
     "execution_count": 23,
     "metadata": {},
     "output_type": "execute_result"
    }
   ],
   "source": [
    "all_warning = check_result[check_result['loglevel'] == 'WARNING']\n",
    "all_warning.head()"
   ]
  },
  {
   "cell_type": "code",
   "execution_count": 24,
   "metadata": {},
   "outputs": [
    {
     "data": {
      "text/plain": [
       "4850"
      ]
     },
     "execution_count": 24,
     "metadata": {},
     "output_type": "execute_result"
    }
   ],
   "source": [
    "len(all_warning)"
   ]
  },
  {
   "cell_type": "code",
   "execution_count": 57,
   "metadata": {},
   "outputs": [
    {
     "data": {
      "text/plain": [
       "0       2019-07-20 14:00:52,367 19716 WARNING FI2 open...\n",
       "1       2019-07-20 14:00:52,173 29311 ERROR FI2 opener...\n",
       "2       2019-07-20 14:00:49,205 26822 WARNING FI2 open...\n",
       "3       2019-07-20 14:00:49,047 924 WARNING FI2 opener...\n",
       "4       2019-07-20 14:00:48,623 29311 WARNING FI2 open...\n",
       "5       2019-07-20 14:00:48,588 29311 WARNING FI2 open...\n",
       "6       2019-07-20 14:00:48,525 29311 WARNING FI2 open...\n",
       "7       2019-07-20 14:00:48,313 29311 WARNING FI2 open...\n",
       "8       2019-07-20 14:00:47,923 29311 WARNING FI2 open...\n",
       "9       2019-07-20 14:00:47,550 924 WARNING FI2 opener...\n",
       "10      2019-07-20 14:00:46,598 29745 WARNING FI2 open...\n",
       "11      2019-07-20 14:00:46,419 29745 WARNING FI2 open...\n",
       "12      2019-07-20 14:00:46,383 29745 WARNING FI2 open...\n",
       "13      2019-07-20 14:00:45,888 32708 WARNING FI2 open...\n",
       "14      2019-07-20 14:00:45,666 17720 WARNING FI2 open...\n",
       "15      2019-07-20 14:00:45,616 21768 WARNING FI2 open...\n",
       "16      2019-07-20 14:00:44,731 14532 WARNING FI2 open...\n",
       "17      2019-07-20 14:00:43,641 29745 WARNING FI2 open...\n",
       "18      2019-07-20 14:00:43,598 22685 WARNING FI2 open...\n",
       "19      2019-07-20 14:00:43,559 21768 WARNING FI2 open...\n",
       "20      2019-07-20 14:00:41,635 17720 WARNING FI2 open...\n",
       "21      2019-07-20 14:00:41,598 17720 WARNING FI2 open...\n",
       "22      2019-07-20 14:00:41,081 26822 WARNING FI2 open...\n",
       "23      2019-07-20 14:00:39,530 1194 WARNING FI2 opene...\n",
       "24      2019-07-20 14:00:39,123 18354 WARNING FI2 open...\n",
       "25      2019-07-20 14:00:37,535 19716 WARNING FI2 open...\n",
       "26      2019-07-20 14:00:35,629 18354 WARNING FI2 open...\n",
       "27      2019-07-20 14:00:35,590 30448 WARNING FI2 open...\n",
       "28      2019-07-20 14:00:34,625 29311 WARNING FI2 open...\n",
       "29      2019-07-20 14:00:34,588 29311 WARNING FI2 open...\n",
       "                              ...                        \n",
       "4820    2019-07-20 12:11:45,049 15665 WARNING FI2 open...\n",
       "4821    2019-07-20 12:11:40,463 14532 WARNING FI2 open...\n",
       "4822    2019-07-20 12:11:21,755 14532 WARNING FI2 open...\n",
       "4823    2019-07-20 12:11:19,820 14532 WARNING FI2 open...\n",
       "4824    2019-07-20 12:11:12,706 14532 WARNING FI2 open...\n",
       "4825    2019-07-20 12:11:08,036 14532 WARNING FI2 open...\n",
       "4826    2019-07-20 12:10:59,347 14532 WARNING FI2 open...\n",
       "4827    2019-07-20 12:10:55,153 14532 WARNING FI2 open...\n",
       "4828    2019-07-20 12:10:39,371 14532 WARNING FI2 open...\n",
       "4829    2019-07-20 12:10:22,335 14532 WARNING FI2 open...\n",
       "4830    2019-07-20 12:10:03,372 14532 WARNING FI2 open...\n",
       "4831    2019-07-20 12:09:39,101 14532 WARNING FI2 open...\n",
       "4832    2019-07-20 12:09:30,609 14532 WARNING FI2 open...\n",
       "4833    2019-07-20 12:09:17,518 14532 WARNING FI2 open...\n",
       "4834    2019-07-20 12:09:17,486 14532 WARNING FI2 open...\n",
       "4835    2019-07-20 12:09:02,600 14532 WARNING FI2 open...\n",
       "4836    2019-07-20 12:09:02,515 14532 WARNING FI2 open...\n",
       "4837    2019-07-20 12:08:33,468 14532 WARNING FI2 open...\n",
       "4838    2019-07-20 12:08:11,018 14532 WARNING FI2 open...\n",
       "4839    2019-07-20 12:08:05,479 14532 WARNING FI2 open...\n",
       "4840    2019-07-20 12:07:58,347 14532 WARNING FI2 open...\n",
       "4841    2019-07-20 12:07:58,146 14532 WARNING FI2 open...\n",
       "4842    2019-07-20 12:07:47,937 14532 WARNING FI2 open...\n",
       "4843    2019-07-20 12:07:47,895 14532 WARNING FI2 open...\n",
       "4844    2019-07-20 12:07:43,909 14532 WARNING FI2 open...\n",
       "4845    2019-07-20 12:07:18,576 14532 WARNING FI2 open...\n",
       "4846    2019-07-20 12:07:15,211 14532 WARNING FI2 open...\n",
       "4847    2019-07-20 12:04:22,501 24385 ERROR ? openerp....\n",
       "4848    2019-07-20 12:04:22,497 24385 ERROR ? openerp....\n",
       "4849    2019-07-20 12:04:22,447 24385 ERROR ? openerp....\n",
       "Name: message, Length: 4850, dtype: object"
      ]
     },
     "execution_count": 57,
     "metadata": {},
     "output_type": "execute_result"
    }
   ],
   "source": [
    "all_warning['message']"
   ]
  },
  {
   "cell_type": "code",
   "execution_count": null,
   "metadata": {},
   "outputs": [],
   "source": []
  }
 ],
 "metadata": {
  "kernelspec": {
   "display_name": "Python 3",
   "language": "python",
   "name": "python3"
  },
  "language_info": {
   "codemirror_mode": {
    "name": "ipython",
    "version": 3
   },
   "file_extension": ".py",
   "mimetype": "text/x-python",
   "name": "python",
   "nbconvert_exporter": "python",
   "pygments_lexer": "ipython3",
   "version": "3.6.5"
  }
 },
 "nbformat": 4,
 "nbformat_minor": 2
}
